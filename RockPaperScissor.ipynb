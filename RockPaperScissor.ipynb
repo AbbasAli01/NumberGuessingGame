{
  "nbformat": 4,
  "nbformat_minor": 0,
  "metadata": {
    "colab": {
      "name": "RockPaperScissor.ipynb",
      "provenance": [],
      "collapsed_sections": [],
      "authorship_tag": "ABX9TyMXNkmz1cgEdZcIto8eGdfQ",
      "include_colab_link": true
    },
    "kernelspec": {
      "name": "python3",
      "display_name": "Python 3"
    },
    "language_info": {
      "name": "python"
    }
  },
  "cells": [
    {
      "cell_type": "markdown",
      "metadata": {
        "id": "view-in-github",
        "colab_type": "text"
      },
      "source": [
        "<a href=\"https://colab.research.google.com/github/AbbasAli01/PythonProjects/blob/main/RockPaperScissor.ipynb\" target=\"_parent\"><img src=\"https://colab.research.google.com/assets/colab-badge.svg\" alt=\"Open In Colab\"/></a>"
      ]
    },
    {
      "cell_type": "code",
      "execution_count": 1,
      "metadata": {
        "id": "k4ex0cdH5iTO"
      },
      "outputs": [],
      "source": [
        "# Game of Rock-Paper-Scissor with Python:"
      ]
    },
    {
      "cell_type": "code",
      "source": [
        "import random",
        "print(\"Rock, Paper or Scissor Game\")\n",
        "print(\"Write 'R', 'P', 'S'for Rock, Paper and Scissor Respectively.\")\n",
        "user_choice = input(\"Enter Your Choice: \")\n",
        "words = ['R', 'P', 'S']\n",
        "computer = random.choice(words)\n",
        "print(f\"Computer Choice: {computer}\")\n",
        "if user_choice.upper() == computer:\n",
        "  print(\"Draw\")\n",
        "elif user_choice.upper() == 'R' and computer == 'P':\n",
        "  print('Computer Wins!!!')\n",
        "elif user_choice.upper() == 'P' and computer == 'S':\n",
        "  print('Computer Wins!!!')\n",
        "elif user_choice.upper() == 'S' and computer == 'R':\n",
        "  print('Computer Wins!!!')\n",
        "else:\n",
        "  print('You Won!!!')"
      ],
      "metadata": {
        "colab": {
          "base_uri": "https://localhost:8080/"
        },
        "id": "0uQYF2-lenpb",
        "outputId": "3be29196-afb0-4618-a46a-8609e07e2105"
      },
      "execution_count": null,
      "outputs": [
        {
          "output_type": "stream",
          "name": "stdout",
          "text": [
            "Rock, Paper or Scissor Game\n",
            "Write 'R', 'P', 'S'for Rock, Paper and Scissor Respectively.\n",
            "Enter Your Choice: r\n",
            "Computer Choice: S\n",
            "You Won!!!\n"
          ]
        }
      ]
    }
  ]
}
