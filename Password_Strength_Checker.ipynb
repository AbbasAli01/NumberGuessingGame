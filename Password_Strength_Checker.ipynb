{
  "nbformat": 4,
  "nbformat_minor": 0,
  "metadata": {
    "colab": {
      "provenance": [],
      "authorship_tag": "ABX9TyMeo42uHKgQ2RiqG4uC47+t",
      "include_colab_link": true
    },
    "kernelspec": {
      "name": "python3",
      "display_name": "Python 3"
    },
    "language_info": {
      "name": "python"
    }
  },
  "cells": [
    {
      "cell_type": "markdown",
      "metadata": {
        "id": "view-in-github",
        "colab_type": "text"
      },
      "source": [
        "<a href=\"https://colab.research.google.com/github/AbbasAli01/PythonProjects/blob/main/Password_Strength_Checker.ipynb\" target=\"_parent\"><img src=\"https://colab.research.google.com/assets/colab-badge.svg\" alt=\"Open In Colab\"/></a>"
      ]
    },
    {
      "cell_type": "code",
      "execution_count": 2,
      "metadata": {
        "colab": {
          "base_uri": "https://localhost:8080/"
        },
        "id": "cJ1CiTcw0eC6",
        "outputId": "20230fa2-f0b4-4c65-a9f1-d35804e7c6ea"
      },
      "outputs": [
        {
          "output_type": "stream",
          "name": "stdout",
          "text": [
            "Do you want to check the strength of you password(yes or no): yes\n",
            "Enter Your Password: Abbas Ali@2001\n",
            "What The P***word!!!...No hacker can come near you dude...\n",
            "Strength: 5/5\n"
          ]
        }
      ],
      "source": [
        "import string\n",
        "\n",
        "def yesOrNo():\n",
        "    choice = ''\n",
        "    while choice != 'yes' or choice != 'no':\n",
        "        choice = input(\"Do you want to check the strength of you password(yes or no): \").strip()\n",
        "        choice = choice.lower()\n",
        "\n",
        "        if choice == 'yes':\n",
        "            return True\n",
        "        elif choice == 'no':\n",
        "            return False\n",
        "        else:\n",
        "            print('Invalid Choice...Enter (yes or no)...')\n",
        "\n",
        "def passwordStrengthChecker():\n",
        "    password = input('Enter Your Password: ')\n",
        "\n",
        "    score = 0\n",
        "    lower_case = 0\n",
        "    upper_case = 0\n",
        "    digits = 0\n",
        "    white_space = 0\n",
        "    special_characters = 0\n",
        "\n",
        "    \"\"\" Looping through password and finding the types of character used in the password such as lowercase, uppercase, and \n",
        "    so on, and incrementing them \"\"\"\n",
        "    for ele in password:\n",
        "        if ele in string.ascii_lowercase:\n",
        "            lower_case += 1\n",
        "        elif ele in string.ascii_uppercase:\n",
        "            upper_case += 1\n",
        "        elif ele in string.digits:\n",
        "            digits += 1\n",
        "        elif ele == ' ':\n",
        "            white_space += 1\n",
        "        else:\n",
        "            special_characters += 1\n",
        "\n",
        "    # Updating Score based on number of unique characters in the Password\n",
        "    if lower_case >= 1:\n",
        "        score += 1\n",
        "    if upper_case >= 1:\n",
        "        score += 1\n",
        "    if digits >= 1:\n",
        "        score += 1\n",
        "    if white_space >= 1:\n",
        "        score += 1\n",
        "    if special_characters >= 1:\n",
        "        score += 1\n",
        "\n",
        "    # Printing remarks and strength based on password's score\n",
        "    if score == 1:\n",
        "        print(\"That's is the worst password one can have...Hackers are on their way dude...\")\n",
        "        print(f'Strength: 1/5')\n",
        "    elif score == 2:\n",
        "        print('Your password is really weak...change it ASAP!!!')\n",
        "        print('Strength: 2/5')\n",
        "    elif score == 3:\n",
        "        print('Your password is good...But can be improved...')\n",
        "        print('Strength: 3/5')\n",
        "    elif score == 4:\n",
        "        print(\"Your password is great...Your device is safe...\")\n",
        "        print('Strength: 4/5')\n",
        "    else:\n",
        "        print(\"What The P***word!!!...No hacker can come near you dude...\")\n",
        "        print('Strength: 5/5')\n",
        "\n",
        "\n",
        "# Program starts here\n",
        "if __name__ == '__main__':\n",
        "    YesOrNo = yesOrNo()\n",
        "    if YesOrNo:\n",
        "        passwordStrengthChecker()"
      ]
    },
    {
      "cell_type": "code",
      "source": [],
      "metadata": {
        "id": "y0eQEb0amQEw"
      },
      "execution_count": null,
      "outputs": []
    }
  ]
}