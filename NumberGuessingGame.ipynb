{
 "cells": [
  {
   "cell_type": "code",
   "execution_count": 8,
   "id": "6d1ff2fa",
   "metadata": {},
   "outputs": [],
   "source": [
    "import random\n",
    "import math"
   ]
  },
  {
   "cell_type": "code",
   "execution_count": 9,
   "id": "6f9b83be",
   "metadata": {},
   "outputs": [
    {
     "name": "stdout",
     "output_type": "stream",
     "text": [
      "Enter lower bound: 20\n",
      "Enter upper bound: 40\n",
      "You've only 4 chance to guess the number!!\n",
      "Enter your Guess: 30\n",
      "Congratulations!!! You found the number in  1 try..\n"
     ]
    }
   ],
   "source": [
    "lower = int(input(\"Enter lower bound: \"))\n",
    "upper = int(input(\"Enter upper bound: \"))\n",
    "x = random.randint(lower, upper)\n",
    "GuessLimit = round(math.log(upper - lower, 2))\n",
    "print(\"You've only\", GuessLimit, \"chance to guess the number!!\")\n",
    "count = 0\n",
    "while count < GuessLimit:\n",
    "    count += 1\n",
    "    \n",
    "    guess = int(input(\"Enter your Guess: \"))\n",
    "    \n",
    "    if x == guess:\n",
    "        print('Congratulations!!! You found the number in ', count, \"try..\")\n",
    "        break\n",
    "    elif x < guess:\n",
    "        print(\"Your guess is too high\")\n",
    "    elif x > guess:\n",
    "        print(\"Your guess is too low\")\n",
    "        \n",
    "if count >= GuessLimit:\n",
    "    print(\"Your Guess Limit is Over!! The number is\", x)\n",
    "    print(\"Better Luck Next Time!!\")"
   ]
  },
  {
   "cell_type": "code",
   "execution_count": 20,
   "id": "235673b3",
   "metadata": {},
   "outputs": [
    {
     "name": "stdout",
     "output_type": "stream",
     "text": [
      "Enter Lower Bound: 1\n",
      "Enter Upper Bound: 100\n",
      "You have 7 Chance to guess the number!!!\n",
      "Enter your guess: 50\n",
      "Your guess is too high\n",
      "Enter your guess: 40\n",
      "Your guess is too high\n",
      "Enter your guess: 30\n",
      "Your guess is too low\n",
      "Enter your guess: 35\n",
      "Your guess is too high\n",
      "Enter your guess: 33\n",
      "Your guess is too low\n",
      "Enter your guess: 34\n",
      "Congratulations!!! you found the number in 6 try!!\n"
     ]
    }
   ],
   "source": [
    "import math\n",
    "import random\n",
    "\n",
    "lower = int(input(\"Enter Lower Bound: \"))\n",
    "upper = int(input(\"Enter Upper Bound: \"))\n",
    "x = random.randint(lower, upper)\n",
    "GuessLimit = round(math.log(upper - lower, 2))\n",
    "print(f\"You have {GuessLimit} Chance to guess the number!!!\")\n",
    "count = 0\n",
    "\n",
    "while GuessLimit > count:\n",
    "    count += 1\n",
    "    \n",
    "    guess = int(input(\"Enter your guess: \"))\n",
    "    \n",
    "    if x == guess:\n",
    "        print(f\"Congratulations!!! you found the number in {count} try!!\")\n",
    "        break\n",
    "    elif x > guess:\n",
    "        print(\"Your guess is too low\")\n",
    "    elif x < guess:\n",
    "        print(\"Your guess is too high\")\n",
    "        \n",
    "if GuessLimit <= count:\n",
    "    print(f\"You Guess Limit is over!! The number is {x}\")\n",
    "    print(\"Better Luck Next Time!!\")\n"
   ]
  },
  {
   "cell_type": "code",
   "execution_count": null,
   "id": "b5b2f47d",
   "metadata": {},
   "outputs": [],
   "source": []
  }
 ],
 "metadata": {
  "kernelspec": {
   "display_name": "Python 3 (ipykernel)",
   "language": "python",
   "name": "python3"
  },
  "language_info": {
   "codemirror_mode": {
    "name": "ipython",
    "version": 3
   },
   "file_extension": ".py",
   "mimetype": "text/x-python",
   "name": "python",
   "nbconvert_exporter": "python",
   "pygments_lexer": "ipython3",
   "version": "3.9.12"
  }
 },
 "nbformat": 4,
 "nbformat_minor": 5
}
