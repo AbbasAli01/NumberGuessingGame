{
  "nbformat": 4,
  "nbformat_minor": 0,
  "metadata": {
    "colab": {
      "provenance": [],
      "authorship_tag": "ABX9TyPU6Rs/q9dpXegZxcyDxLLw",
      "include_colab_link": true
    },
    "kernelspec": {
      "name": "python3",
      "display_name": "Python 3"
    },
    "language_info": {
      "name": "python"
    }
  },
  "cells": [
    {
      "cell_type": "markdown",
      "metadata": {
        "id": "view-in-github",
        "colab_type": "text"
      },
      "source": [
        "<a href=\"https://colab.research.google.com/github/AbbasAli01/PythonProjects/blob/main/NumberGuessingGame.ipynb\" target=\"_parent\"><img src=\"https://colab.research.google.com/assets/colab-badge.svg\" alt=\"Open In Colab\"/></a>"
      ]
    },
    {
      "cell_type": "code",
      "execution_count": 1,
      "metadata": {
        "colab": {
          "base_uri": "https://localhost:8080/"
        },
        "id": "YjeAHXXhr8ZE",
        "outputId": "20e68736-17b9-4e9e-8919-d386ccf878ca"
      },
      "outputs": [
        {
          "output_type": "stream",
          "name": "stdout",
          "text": [
            "Enter Lower Bound: 1\n",
            "Enter Upper Bound: 20\n",
            "You have 4 Chance to guess the number!!!\n",
            "Enter your guess: 10\n",
            "Your guess is too low\n",
            "Enter your guess: 15\n",
            "Your guess is too high\n",
            "Enter your guess: 13\n",
            "Congratulations!!! you found the number in 3 try!!\n"
          ]
        }
      ],
      "source": [
        "import math\n",
        "import random\n",
        "\n",
        "lower = int(input(\"Enter Lower Bound: \"))\n",
        "upper = int(input(\"Enter Upper Bound: \"))\n",
        "x = random.randint(lower, upper)\n",
        "GuessLimit = round(math.log(upper - lower, 2))\n",
        "print(f\"You have {GuessLimit} Chance to guess the number!!!\")\n",
        "count = 0\n",
        "\n",
        "while GuessLimit > count:\n",
        "    count += 1\n",
        "    \n",
        "    guess = int(input(\"Enter your guess: \"))\n",
        "    \n",
        "    if x == guess:\n",
        "        print(f\"Congratulations!!! you found the number in {count} try!!\")\n",
        "        break\n",
        "    elif x > guess:\n",
        "        print(\"Your guess is too low\")\n",
        "    elif x < guess:\n",
        "        print(\"Your guess is too high\")\n",
        "        \n",
        "if GuessLimit <= count:\n",
        "    print(f\"You Guess Limit is over!! The number is {x}\")\n",
        "    print(\"Better Luck Next Time!!\")"
      ]
    }
  ]
}