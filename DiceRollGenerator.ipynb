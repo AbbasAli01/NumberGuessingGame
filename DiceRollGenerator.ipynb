{
  "nbformat": 4,
  "nbformat_minor": 0,
  "metadata": {
    "colab": {
      "provenance": [],
      "authorship_tag": "ABX9TyPKpENUTG39ufRzfrkUE7u2",
      "include_colab_link": true
    },
    "kernelspec": {
      "name": "python3",
      "display_name": "Python 3"
    },
    "language_info": {
      "name": "python"
    }
  },
  "cells": [
    {
      "cell_type": "markdown",
      "metadata": {
        "id": "view-in-github",
        "colab_type": "text"
      },
      "source": [
        "<a href=\"https://colab.research.google.com/github/AbbasAli01/PythonProjects/blob/main/DiceRollGenerator.ipynb\" target=\"_parent\"><img src=\"https://colab.research.google.com/assets/colab-badge.svg\" alt=\"Open In Colab\"/></a>"
      ]
    },
    {
      "cell_type": "code",
      "execution_count": 6,
      "metadata": {
        "colab": {
          "base_uri": "https://localhost:8080/"
        },
        "id": "F06z-oneqOby",
        "outputId": "6ac290f2-1503-424e-de10-5bd728dde7f1"
      },
      "outputs": [
        {
          "name": "stdout",
          "output_type": "stream",
          "text": [
            "Enter number of dice: 2\n",
            "Dice-1: 5\n",
            "Dice-2: 1\n",
            "Total: 6\n",
            "Wanna Roll again?(Yes or No): yes\n",
            "Enter number of dice: 1\n",
            "Dice: 5\n",
            "Wanna Roll again?(Yes or No): yes\n",
            "Enter number of dice: 5\n",
            "Try 1 or 2...\n",
            "Dice: 5\n",
            "Wanna Roll again?(Yes or No): yes\n",
            "Enter number of dice: 2\n",
            "Dice-1: 5\n",
            "Dice-2: 1\n",
            "Total: 6\n",
            "Wanna Roll again?(Yes or No): no\n"
          ]
        }
      ],
      "source": [
        "# Dice Roll Generator\n",
        "\n",
        "import random\n",
        "\n",
        "def num_dice():\n",
        "  try:\n",
        "    numOfDice = int(input('Enter number of dice: '))\n",
        "    validOptions = [1, 2, 'one', 'two']\n",
        "    if numOfDice not in validOptions:\n",
        "      raise ValueError(\"Try 1 or 2...\")\n",
        "    else:\n",
        "      return numOfDice\n",
        "  except ValueError as err:\n",
        "    print(err)\n",
        "\n",
        "def roll_dice():\n",
        "  min = 1\n",
        "  max = 6\n",
        "  roll_again = 'yes'\n",
        "  dice_1 = random.randint(min, max)\n",
        "  dice_2 = random.randint(min, max)\n",
        "\n",
        "  while roll_again.lower() == 'yes':\n",
        "    no_of_dice = num_dice()\n",
        "    if no_of_dice == 2:\n",
        "      print(f\"Dice-1: {dice_1}\")\n",
        "      print(f\"Dice-2: {dice_2}\")\n",
        "      print(f\"Total: {dice_1 + dice_2}\")\n",
        "      roll_again = input('Wanna Roll again?(Yes or No): ')\n",
        "    else:\n",
        "      print(f\"Dice: {dice_1}\")\n",
        "      roll_again = input('Wanna Roll again?(Yes or No): ')\n",
        " \n",
        "if __name__ == '__main__':\n",
        "  roll_dice()"
      ]
    },
    {
      "cell_type": "code",
      "source": [],
      "metadata": {
        "id": "dL_Q_xp_sJTr"
      },
      "execution_count": null,
      "outputs": []
    }
  ]
}