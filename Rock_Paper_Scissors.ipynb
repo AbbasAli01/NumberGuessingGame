{
  "nbformat": 4,
  "nbformat_minor": 0,
  "metadata": {
    "colab": {
      "provenance": [],
      "authorship_tag": "ABX9TyPstQ0Znrq5r4VGC2pDIYJQ",
      "include_colab_link": true
    },
    "kernelspec": {
      "name": "python3",
      "display_name": "Python 3"
    },
    "language_info": {
      "name": "python"
    }
  },
  "cells": [
    {
      "cell_type": "markdown",
      "metadata": {
        "id": "view-in-github",
        "colab_type": "text"
      },
      "source": [
        "<a href=\"https://colab.research.google.com/github/AbbasAli01/PythonProjects/blob/main/Rock_Paper_Scissors.ipynb\" target=\"_parent\"><img src=\"https://colab.research.google.com/assets/colab-badge.svg\" alt=\"Open In Colab\"/></a>"
      ]
    },
    {
      "cell_type": "code",
      "execution_count": 1,
      "metadata": {
        "id": "Ocx-wr3_nxS0",
        "colab": {
          "base_uri": "https://localhost:8080/"
        },
        "outputId": "663185fc-f41e-498f-b24e-aed795619c92"
      },
      "outputs": [
        {
          "output_type": "stream",
          "name": "stdout",
          "text": [
            "Enter your choice(rock/paper/scissors): rock\n",
            "Computer: scissors\n",
            "You: rock\n",
            "You Won!!\n"
          ]
        }
      ],
      "source": [
        "# Rock/Paper/Scissors\n",
        "\n",
        "import random\n",
        "\n",
        "options = ['rock', 'paper', 'scissors']\n",
        "\n",
        "computer = random.choice(options)\n",
        "user = None\n",
        "\n",
        "while user not in options:\n",
        "  if user == None:\n",
        "    user = input('Enter your choice(rock/paper/scissors): ')\n",
        "    user = user.lower()\n",
        "  else:\n",
        "    print(\"Invalid Choice...Type: rock/paper/scissors...\")\n",
        "    user = input('Enter your choice(rock/paper/scissors): ')\n",
        "    user = user.lower()\n",
        "\n",
        "print(f'Computer: {computer}')\n",
        "print(f'You: {user}')\n",
        "\n",
        "if computer == user:\n",
        "  print(\"Draw!!\")\n",
        "elif (computer == 'rock' and user == 'scissors') or (computer == 'paper' and user == 'rock') or (computer == 'scissors' and user == 'paper'):\n",
        "  print(\"Computer Wins!!\")\n",
        "else:\n",
        "  print(\"You Won!!\")"
      ]
    },
    {
      "cell_type": "code",
      "source": [],
      "metadata": {
        "id": "GGE8bMblpHVQ"
      },
      "execution_count": null,
      "outputs": []
    }
  ]
}